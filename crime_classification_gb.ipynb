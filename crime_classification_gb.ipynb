{
 "cells": [
  {
   "cell_type": "code",
   "execution_count": 1,
   "metadata": {
    "collapsed": true
   },
   "outputs": [],
   "source": [
    "# Objetivo: Encontrar categorias de crimes"
   ]
  },
  {
   "cell_type": "code",
   "execution_count": 2,
   "metadata": {
    "collapsed": false
   },
   "outputs": [],
   "source": [
    "import numpy as np\n",
    "import pandas as pd\n",
    "import itertools\n",
    "from datetime import datetime, time\n",
    "from sklearn.preprocessing import OneHotEncoder, scale\n",
    "from sklearn.ensemble import RandomForestClassifier, ExtraTreesClassifier, ExtraTreesRegressor, GradientBoostingClassifier\n",
    "from sklearn.cross_validation import KFold, train_test_split, StratifiedKFold, cross_val_score\n",
    "from sklearn.metrics import log_loss\n",
    "from sklearn.grid_search import GridSearchCV\n",
    "from sklearn.decomposition import PCA, RandomizedPCA\n",
    "import json\n",
    "\n",
    "import matplotlib.pyplot as plt\n",
    "import matplotlib.patches as patches\n",
    "import matplotlib.path as path\n",
    "%matplotlib inline\n",
    "\n",
    "from datetime import datetime\n",
    "import gc\n"
   ]
  },
  {
   "cell_type": "markdown",
   "metadata": {},
   "source": [
    "## Import e tratamentos"
   ]
  },
  {
   "cell_type": "code",
   "execution_count": null,
   "metadata": {
    "collapsed": false
   },
   "outputs": [],
   "source": []
  },
  {
   "cell_type": "code",
   "execution_count": null,
   "metadata": {
    "collapsed": false
   },
   "outputs": [],
   "source": []
  },
  {
   "cell_type": "code",
   "execution_count": null,
   "metadata": {
    "collapsed": false
   },
   "outputs": [],
   "source": []
  },
  {
   "cell_type": "code",
   "execution_count": 3,
   "metadata": {
    "collapsed": false
   },
   "outputs": [
    {
     "ename": "NameError",
     "evalue": "name 'df_location' is not defined",
     "output_type": "error",
     "traceback": [
      "\u001b[1;31m---------------------------------------------------------------------------\u001b[0m",
      "\u001b[1;31mNameError\u001b[0m                                 Traceback (most recent call last)",
      "\u001b[1;32m<ipython-input-3-0336dfddd8c1>\u001b[0m in \u001b[0;36m<module>\u001b[1;34m()\u001b[0m\n\u001b[1;32m----> 1\u001b[1;33m \u001b[0mscale\u001b[0m\u001b[1;33m(\u001b[0m\u001b[0mdf_location\u001b[0m\u001b[1;33m)\u001b[0m\u001b[1;33m\u001b[0m\u001b[0m\n\u001b[0m",
      "\u001b[1;31mNameError\u001b[0m: name 'df_location' is not defined"
     ]
    }
   ],
   "source": [
    "# scale(df_location)"
   ]
  },
  {
   "cell_type": "code",
   "execution_count": 4,
   "metadata": {
    "collapsed": false
   },
   "outputs": [],
   "source": [
    "def trata_vars(df, test=False):\n",
    "    df['Hour'] = df.Dates.dt.hour\n",
    "    \n",
    "    df['Periodo'] = df.Dates.dt.hour\n",
    "    \n",
    "    noite = (df.Hour >= 18) | (df.Hour < 6)\n",
    "    df.ix[noite, 'Periodo'] = 'noite'\n",
    "    \n",
    "    manha = (df.Hour >= 6) & (df.Hour < 12)\n",
    "    df.ix[manha, 'Periodo'] = 'manha'\n",
    "    \n",
    "    tarde = (df.Hour >= 12) & (df.Hour < 18)\n",
    "    df.ix[tarde, 'Periodo'] = 'tarde'\n",
    "    \n",
    "    df['Weekend'] = False\n",
    "    df['Weekend'] = (df.DayOfWeek == 'Saturday') | (df.DayOfWeek == 'Sunday')\n",
    "    df.Weekend = df.Weekend * 1\n",
    "    \n",
    "    df['PeriodoDistrict'] = df.Periodo + df.PdDistrict\n",
    "    \n",
    "    df['Hour'] = df.Dates.dt.hour.astype('str')\n",
    "    \n",
    "    df['HourDistrict'] = df.Hour + df.PdDistrict\n",
    "    \n",
    "    df['Month'] = df.Dates.dt.month.astype('str')\n",
    "    df['Year'] = df.Dates.dt.year.astype('str')\n",
    "    df['Day'] = df.Dates.dt.day.astype('str')\n",
    "    df['YearMonth'] = df.Dates.dt.year.astype('str') + df.Dates.dt.month.astype('str')\n",
    "    df['YearDistrict'] = df.Dates.dt.year.astype('str') + df.PdDistrict\n",
    "    df['esquina'] = df.Address.str.contains('/').astype('int')\n",
    "    df['Block'] = df['Address'].str.contains('Block').astype('int')\n",
    "    df['MonthDistrict'] = df.Month.astype('str') + df.PdDistrict\n",
    "    \n",
    "    \n",
    "    date_time = pd.to_datetime(df.Dates)\n",
    "    year = date_time.dt.year\n",
    "    df['Year'] = year\n",
    "    month = date_time.dt.month\n",
    "    df['Month'] = month\n",
    "    day = date_time.dt.day\n",
    "    df['Day'] = day\n",
    "    hour = date_time.dt.hour\n",
    "    df['hour'] = hour\n",
    "    minute = date_time.dt.minute\n",
    "    time = hour*60+minute\n",
    "    df['Time'] = time\n",
    "#     df[['X','Y']] = scale(df[['X','Y']])\n",
    "#     df = PCA_decomposition(df)\n",
    "    \n",
    "    if not test:\n",
    "        df.sort_values(by='Category')\n",
    "    return df"
   ]
  },
  {
   "cell_type": "code",
   "execution_count": 5,
   "metadata": {
    "collapsed": false
   },
   "outputs": [],
   "source": [
    "def get_data(cols_x, cols_y):\n",
    "    df = pd.DataFrame.from_csv('train.csv.gz')\n",
    "    df.reset_index(inplace=True)\n",
    "    df = trata_vars(df)\n",
    "\n",
    "#     Y = pd.get_dummies(df[cols_y])\n",
    "    \n",
    "    df.drop_duplicates(inplace=True)\n",
    "    cats = df.Category.unique()\n",
    "    cats.sort()\n",
    "    df_cat = pd.DataFrame(cats, columns=['Category'])\n",
    "    df_cat['IndCat'] = list(df_cat.index)\n",
    "    \n",
    "    df = df.merge(df_cat, how='left', on='Category')\n",
    "    \n",
    "    X = pd.get_dummies(df[cols_x])    \n",
    "    X = X.values\n",
    "    Y = df['Category'].values\n",
    "#     Y = np.array(Y) \n",
    "\n",
    "#     del duplicados\n",
    "    gc.collect()\n",
    "    \n",
    "    return X, Y, df, cats"
   ]
  },
  {
   "cell_type": "code",
   "execution_count": null,
   "metadata": {
    "collapsed": false
   },
   "outputs": [],
   "source": []
  },
  {
   "cell_type": "code",
   "execution_count": null,
   "metadata": {
    "collapsed": false
   },
   "outputs": [],
   "source": []
  },
  {
   "cell_type": "code",
   "execution_count": 6,
   "metadata": {
    "collapsed": false
   },
   "outputs": [],
   "source": [
    "cols_x = ['PdDistrict', 'esquina','Block', 'Year', 'Month', 'Day','hour', 'Time', 'X', 'Y', 'DayOfWeek']\n",
    "cols_y = ['Category']"
   ]
  },
  {
   "cell_type": "code",
   "execution_count": 7,
   "metadata": {
    "collapsed": false,
    "scrolled": true
   },
   "outputs": [],
   "source": [
    "X, Y, df, cats = get_data(cols_x,cols_y)"
   ]
  },
  {
   "cell_type": "code",
   "execution_count": null,
   "metadata": {
    "collapsed": false
   },
   "outputs": [],
   "source": []
  },
  {
   "cell_type": "code",
   "execution_count": null,
   "metadata": {
    "collapsed": false
   },
   "outputs": [],
   "source": [
    "# df.alterX = (np.round(df.X * 10) / 10).astype(str)\n",
    "# df.alterY = (np.round(df.Y * 10) / 10).astype(str)"
   ]
  },
  {
   "cell_type": "code",
   "execution_count": null,
   "metadata": {
    "collapsed": true
   },
   "outputs": [],
   "source": [
    "# df.location = df.alterX + df.alterY + df.Category"
   ]
  },
  {
   "cell_type": "code",
   "execution_count": null,
   "metadata": {
    "collapsed": false
   },
   "outputs": [],
   "source": []
  },
  {
   "cell_type": "code",
   "execution_count": null,
   "metadata": {
    "collapsed": false
   },
   "outputs": [],
   "source": []
  },
  {
   "cell_type": "code",
   "execution_count": null,
   "metadata": {
    "collapsed": false
   },
   "outputs": [],
   "source": [
    "# .value_counts().plot(kind='bar')"
   ]
  },
  {
   "cell_type": "code",
   "execution_count": null,
   "metadata": {
    "collapsed": false
   },
   "outputs": [],
   "source": []
  },
  {
   "cell_type": "code",
   "execution_count": null,
   "metadata": {
    "collapsed": false
   },
   "outputs": [],
   "source": []
  },
  {
   "cell_type": "code",
   "execution_count": null,
   "metadata": {
    "collapsed": true
   },
   "outputs": [],
   "source": []
  },
  {
   "cell_type": "code",
   "execution_count": null,
   "metadata": {
    "collapsed": true
   },
   "outputs": [],
   "source": []
  },
  {
   "cell_type": "code",
   "execution_count": 8,
   "metadata": {
    "collapsed": false
   },
   "outputs": [],
   "source": [
    "# kf = StratifiedKFold(df.Category,n_folds=2, shuffle=True, random_state=500)\n",
    "# train = list(kf)[0][0]\n",
    "# test = list(kf)[0][1]\n",
    "\n",
    "# X_train = X[train]\n",
    "# X_test = X[test]\n",
    "# Y_train = Y[train]\n",
    "# Y_test = Y[test]\n",
    "# df_train = df.ix[train]\n",
    "df_train = df"
   ]
  },
  {
   "cell_type": "code",
   "execution_count": null,
   "metadata": {
    "collapsed": false
   },
   "outputs": [],
   "source": []
  },
  {
   "cell_type": "code",
   "execution_count": null,
   "metadata": {
    "collapsed": false,
    "scrolled": true
   },
   "outputs": [],
   "source": []
  },
  {
   "cell_type": "code",
   "execution_count": null,
   "metadata": {
    "collapsed": true
   },
   "outputs": [],
   "source": []
  },
  {
   "cell_type": "code",
   "execution_count": null,
   "metadata": {
    "collapsed": false
   },
   "outputs": [],
   "source": [
    "# qtde = X_train.shape[0]\n",
    "# # qtde = 200000\n",
    "\n",
    "# if qtde != X_train.shape[0]:\n",
    "#     X = np.array(X_train.iloc[:qtde])\n",
    "#     Y = np.array(Y_train.iloc[:qtde])\n",
    "# else:\n",
    "#     X = np.asfortranarray(X_train)\n",
    "#     Y = np.asfortranarray(Y_train)"
   ]
  },
  {
   "cell_type": "code",
   "execution_count": null,
   "metadata": {
    "collapsed": false
   },
   "outputs": [],
   "source": []
  },
  {
   "cell_type": "code",
   "execution_count": null,
   "metadata": {
    "collapsed": false
   },
   "outputs": [],
   "source": []
  },
  {
   "cell_type": "code",
   "execution_count": null,
   "metadata": {
    "collapsed": false
   },
   "outputs": [],
   "source": []
  },
  {
   "cell_type": "code",
   "execution_count": null,
   "metadata": {
    "collapsed": false
   },
   "outputs": [],
   "source": [
    "# n_estimators=20,\n",
    "#                         random_state=500,\n",
    "#                         n_jobs=4,\n",
    "# #                         criterion='entropy',\n",
    "# #                             max_leaf_nodes=30,\n",
    "#                         warm_start=True,\n",
    "# #                                 min_samples_leaf=10,\n",
    "# #                         max_features=None"
   ]
  },
  {
   "cell_type": "code",
   "execution_count": 9,
   "metadata": {
    "collapsed": false,
    "scrolled": true
   },
   "outputs": [],
   "source": [
    "def train_forest(train_x, train_y, test_x=None, test_y=None):\n",
    "    \n",
    "#     train_x = X_train\n",
    "#     train_y = Y_train\n",
    "#     test_x = X_test\n",
    "#     test_y = Y_test\n",
    "\n",
    "    ini = datetime.now()\n",
    "\n",
    "    forest = GradientBoostingClassifier(min_samples_split=1000, random_state=500, max_depth=6)\n",
    "#     forest = ExtraTreesClassifier(min_samples_split=1000, random_state=500)\n",
    "\n",
    "    kf = StratifiedKFold(np.array(df_train['IndCat']), n_folds=3, shuffle=True, random_state=500)\n",
    "    print('Training forest...')\n",
    "    for k, (train, test) in enumerate(kf, start=1):\n",
    "        forest.fit(train_x[train], train_y[train])\n",
    "        pred = forest.predict_proba(train_x[test]) \n",
    "        print('fold:', k, 'log loss:', log_loss(train_y[test], pred))\n",
    "        del pred\n",
    "\n",
    "    if not test_x is None:\n",
    "        pred = forest.predict_proba(test_x)\n",
    "        print('fold:', k, 'log_loss:', log_loss(test_y, pred))\n",
    "        del pred\n",
    "    fim = datetime.now()\n",
    "    print(fim - ini)\n",
    "    return forest"
   ]
  },
  {
   "cell_type": "code",
   "execution_count": 10,
   "metadata": {
    "collapsed": false,
    "scrolled": true
   },
   "outputs": [
    {
     "name": "stdout",
     "output_type": "stream",
     "text": [
      "Training forest...\n",
      "fold: 1 log loss: 2.33881820754\n",
      "fold: 2 log loss: 2.33602312671\n",
      "fold: 3 log loss: 2.33497001158\n",
      "16:17:10.975796\n"
     ]
    }
   ],
   "source": [
    "# forest = train_forest(X_train, Y_train, X_test, Y_test)\n",
    "forest = train_forest(X, Y)"
   ]
  },
  {
   "cell_type": "code",
   "execution_count": null,
   "metadata": {
    "collapsed": false
   },
   "outputs": [],
   "source": [
    "# pred = forest.predict_proba(X_test)\n",
    "# print('log_loss:', log_loss(Y_test, pred))"
   ]
  },
  {
   "cell_type": "code",
   "execution_count": null,
   "metadata": {
    "collapsed": false,
    "scrolled": false
   },
   "outputs": [],
   "source": []
  },
  {
   "cell_type": "code",
   "execution_count": 11,
   "metadata": {
    "collapsed": true
   },
   "outputs": [],
   "source": [
    "import pickle\n",
    "with open('temp', 'wb') as f:\n",
    "    pickle.dump(forest, f)"
   ]
  },
  {
   "cell_type": "code",
   "execution_count": null,
   "metadata": {
    "collapsed": false
   },
   "outputs": [],
   "source": [
    "import pickle\n",
    "with open('temp', 'rb') as f:\n",
    "    forest = pickle.load(f)"
   ]
  },
  {
   "cell_type": "code",
   "execution_count": null,
   "metadata": {
    "collapsed": true
   },
   "outputs": [],
   "source": []
  },
  {
   "cell_type": "code",
   "execution_count": null,
   "metadata": {
    "collapsed": false
   },
   "outputs": [],
   "source": [
    "# d = pd.DataFrame(forest.feature_importances_).T\n",
    "# d.columns = pd.get_dummies(df[cols_x]).columns\n",
    "# d = pd.DataFrame(forest.feature_importances_)\n",
    "# d.index = pd.get_dummies(df[cols_x]).columns\n",
    "# d.plot(kind='bar')"
   ]
  },
  {
   "cell_type": "code",
   "execution_count": null,
   "metadata": {
    "collapsed": false
   },
   "outputs": [],
   "source": []
  },
  {
   "cell_type": "code",
   "execution_count": null,
   "metadata": {
    "collapsed": false
   },
   "outputs": [],
   "source": []
  },
  {
   "cell_type": "code",
   "execution_count": null,
   "metadata": {
    "collapsed": false
   },
   "outputs": [],
   "source": []
  },
  {
   "cell_type": "code",
   "execution_count": 12,
   "metadata": {
    "collapsed": true
   },
   "outputs": [],
   "source": [
    "def get_test():\n",
    "    df_test = pd.read_csv('test.csv.gz', index_col='Id')\n",
    "    df_test.reset_index(inplace=True)\n",
    "    df_test.Dates = pd.to_datetime(df_test.Dates)\n",
    "    df_test = trata_vars(df_test, test=True)\n",
    "\n",
    "    X_test = pd.get_dummies(df_test[cols_x])\n",
    "    return X_test"
   ]
  },
  {
   "cell_type": "code",
   "execution_count": 13,
   "metadata": {
    "collapsed": false,
    "scrolled": true
   },
   "outputs": [],
   "source": [
    "X_test = get_test()"
   ]
  },
  {
   "cell_type": "code",
   "execution_count": null,
   "metadata": {
    "collapsed": false
   },
   "outputs": [],
   "source": []
  },
  {
   "cell_type": "code",
   "execution_count": null,
   "metadata": {
    "collapsed": false
   },
   "outputs": [],
   "source": []
  },
  {
   "cell_type": "code",
   "execution_count": null,
   "metadata": {
    "collapsed": false
   },
   "outputs": [],
   "source": [
    "# a = X_train.columns - X_test.columns\n",
    "# for i in a:\n",
    "#     X_test[i] = 0"
   ]
  },
  {
   "cell_type": "code",
   "execution_count": null,
   "metadata": {
    "collapsed": false
   },
   "outputs": [],
   "source": []
  },
  {
   "cell_type": "code",
   "execution_count": 14,
   "metadata": {
    "collapsed": false,
    "scrolled": false
   },
   "outputs": [
    {
     "name": "stdout",
     "output_type": "stream",
     "text": [
      "0\n",
      "100000\n",
      "200000\n",
      "300000\n",
      "400000\n",
      "500000\n",
      "600000\n",
      "700000\n",
      "800000\n"
     ]
    }
   ],
   "source": [
    "# res = forest.predict(np.array(X_test))\n",
    "\n",
    "\n",
    "l = []\n",
    "for i in range(0, X_test.shape[0],100000):\n",
    "    print(i)\n",
    "    res = forest.predict_proba(np.array(X_test.iloc[i:i+100000]))\n",
    "#     res = np.array(res)[:,:,1].T\n",
    "    l.append(res)\n",
    "    del res\n",
    "    gc.collect()\n",
    "\n",
    "newl = []\n",
    "for i in l:\n",
    "    for j in i:\n",
    "        newl.append(j)\n",
    "res = np.array(newl)\n"
   ]
  },
  {
   "cell_type": "code",
   "execution_count": null,
   "metadata": {
    "collapsed": false
   },
   "outputs": [],
   "source": []
  },
  {
   "cell_type": "code",
   "execution_count": null,
   "metadata": {
    "collapsed": false
   },
   "outputs": [],
   "source": []
  },
  {
   "cell_type": "code",
   "execution_count": null,
   "metadata": {
    "collapsed": false,
    "scrolled": true
   },
   "outputs": [],
   "source": []
  },
  {
   "cell_type": "code",
   "execution_count": null,
   "metadata": {
    "collapsed": false
   },
   "outputs": [],
   "source": []
  },
  {
   "cell_type": "code",
   "execution_count": 15,
   "metadata": {
    "collapsed": false
   },
   "outputs": [],
   "source": [
    "df_res = pd.DataFrame(res, columns=cats)\n",
    "# df_res = df_res.merge(df_cat, how='left', on='IndCat')\n",
    "final_result = df_res"
   ]
  },
  {
   "cell_type": "code",
   "execution_count": 16,
   "metadata": {
    "collapsed": false
   },
   "outputs": [
    {
     "data": {
      "text/plain": [
       "39"
      ]
     },
     "execution_count": 16,
     "metadata": {},
     "output_type": "execute_result"
    }
   ],
   "source": [
    "len(final_result.columns)"
   ]
  },
  {
   "cell_type": "code",
   "execution_count": null,
   "metadata": {
    "collapsed": false
   },
   "outputs": [],
   "source": [
    "# for x in [x for x in df.Category.unique() if x not in final_result.columns]:\n",
    "#     final_result[x] = 0"
   ]
  },
  {
   "cell_type": "code",
   "execution_count": 17,
   "metadata": {
    "collapsed": false
   },
   "outputs": [],
   "source": [
    "# cols = df['Category'].unique()\n",
    "# cols.sort()\n",
    "\n",
    "# res = pd.DataFrame(res)\n",
    "# final_result.columns = cols\n",
    "final_result['Id'] = final_result.index\n",
    "final_result.set_index('Id', inplace=True)"
   ]
  },
  {
   "cell_type": "code",
   "execution_count": 18,
   "metadata": {
    "collapsed": false
   },
   "outputs": [],
   "source": [
    "today = datetime.today()\n",
    "t = today.strftime('%Y%m%d%H%M')\n",
    "final_result.to_csv('result_%s.csv.gz'%t, compression='gzip')"
   ]
  },
  {
   "cell_type": "code",
   "execution_count": null,
   "metadata": {
    "collapsed": true
   },
   "outputs": [],
   "source": []
  }
 ],
 "metadata": {
  "kernelspec": {
   "display_name": "Python 3",
   "language": "python",
   "name": "python3"
  },
  "language_info": {
   "codemirror_mode": {
    "name": "ipython",
    "version": 3
   },
   "file_extension": ".py",
   "mimetype": "text/x-python",
   "name": "python",
   "nbconvert_exporter": "python",
   "pygments_lexer": "ipython3",
   "version": "3.4.3"
  }
 },
 "nbformat": 4,
 "nbformat_minor": 0
}
