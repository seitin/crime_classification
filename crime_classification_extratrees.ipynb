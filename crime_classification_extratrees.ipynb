{
 "cells": [
  {
   "cell_type": "code",
   "execution_count": 1,
   "metadata": {
    "collapsed": true
   },
   "outputs": [],
   "source": [
    "# Objetivo: Encontrar categorias de crimes"
   ]
  },
  {
   "cell_type": "code",
   "execution_count": 2,
   "metadata": {
    "collapsed": false
   },
   "outputs": [],
   "source": [
    "import numpy as np\n",
    "import pandas as pd\n",
    "import itertools\n",
    "from datetime import datetime, time\n",
    "from sklearn.preprocessing import OneHotEncoder\n",
    "import json\n",
    "\n",
    "import matplotlib.pyplot as plt\n",
    "import matplotlib.patches as patches\n",
    "import matplotlib.path as path\n",
    "from datetime import datetime\n",
    "%matplotlib inline"
   ]
  },
  {
   "cell_type": "markdown",
   "metadata": {},
   "source": [
    "## Import e tratamentos"
   ]
  },
  {
   "cell_type": "code",
   "execution_count": null,
   "metadata": {
    "collapsed": false
   },
   "outputs": [],
   "source": []
  },
  {
   "cell_type": "code",
   "execution_count": null,
   "metadata": {
    "collapsed": false
   },
   "outputs": [],
   "source": []
  },
  {
   "cell_type": "code",
   "execution_count": 3,
   "metadata": {
    "collapsed": false
   },
   "outputs": [],
   "source": [
    "def trata_vars(df):\n",
    "    df['Hour'] = df.Dates.dt.hour.astype('str')\n",
    "    df['Month'] = df.Dates.dt.month.astype('str')\n",
    "    df['Year'] = df.Dates.dt.year.astype('str')\n",
    "    df['Day'] = df.Dates.dt.day.astype('str')\n",
    "    df['YearMonth'] = df.Dates.dt.year.astype('str') + df.Dates.dt.month.astype('str')\n",
    "    df['YearDistrict'] = df.Dates.dt.year.astype('str') + df.PdDistrict\n",
    "    df['esquina'] = df.Address.str.contains('/').astype('int')\n",
    "    df['MonthDistrict'] = df.Month.astype('str') + df.PdDistrict\n",
    "    return df"
   ]
  },
  {
   "cell_type": "code",
   "execution_count": 4,
   "metadata": {
    "collapsed": false
   },
   "outputs": [],
   "source": [
    "def get_data(cols_x, cols_y):\n",
    "    df = pd.DataFrame.from_csv('train.csv.gz')\n",
    "    # df = df.sample(df.shape[0])\n",
    "    df.reset_index(inplace=True)\n",
    "    df = trata_vars(df)\n",
    "    features_x = []\n",
    "    X = np.array(pd.get_dummies(df[cols_x]))\n",
    "\n",
    "    features_y = []\n",
    "    Y = np.array(pd.get_dummies(df[cols_y]))\n",
    "    \n",
    "    return X, Y, df"
   ]
  },
  {
   "cell_type": "code",
   "execution_count": 5,
   "metadata": {
    "collapsed": false
   },
   "outputs": [],
   "source": [
    "cols_x = ['DayOfWeek', 'PdDistrict',  'esquina', 'Year', 'Month', 'Day','YearMonth','YearDistrict','MonthDistrict']\n",
    "cols_y = ['Category']"
   ]
  },
  {
   "cell_type": "code",
   "execution_count": 6,
   "metadata": {
    "collapsed": false
   },
   "outputs": [],
   "source": [
    "X, Y, df = get_data(cols_x,cols_y)"
   ]
  },
  {
   "cell_type": "code",
   "execution_count": null,
   "metadata": {
    "collapsed": true
   },
   "outputs": [],
   "source": []
  },
  {
   "cell_type": "code",
   "execution_count": 7,
   "metadata": {
    "collapsed": false
   },
   "outputs": [],
   "source": [
    "# df_cat = pd.DataFrame(df.Category.unique(), columns=['Category'])\n",
    "# df_cat['IndCat'] = list(df_cat.index)\n",
    "# df = df.merge(df_cat, how='left', on='Category')\n",
    "# Y = np.array(df['IndCat'])"
   ]
  },
  {
   "cell_type": "code",
   "execution_count": null,
   "metadata": {
    "collapsed": false,
    "scrolled": true
   },
   "outputs": [],
   "source": []
  },
  {
   "cell_type": "code",
   "execution_count": 8,
   "metadata": {
    "collapsed": true
   },
   "outputs": [],
   "source": [
    "from sklearn.ensemble import RandomForestClassifier, RandomForestRegressor, ExtraTreesRegressor, ExtraTreesClassifier\n",
    "from sklearn.cross_validation import KFold, train_test_split\n",
    "from sklearn.metrics import log_loss"
   ]
  },
  {
   "cell_type": "code",
   "execution_count": 9,
   "metadata": {
    "collapsed": false
   },
   "outputs": [],
   "source": [
    "# qtde = X_train.shape[0]\n",
    "# # qtde = 200000\n",
    "\n",
    "# if qtde != X_train.shape[0]:\n",
    "#     X = np.array(X_train.iloc[:qtde])\n",
    "#     Y = np.array(Y_train.iloc[:qtde])\n",
    "# else:\n",
    "#     X = np.asfortranarray(X_train)\n",
    "#     Y = np.asfortranarray(Y_train)"
   ]
  },
  {
   "cell_type": "code",
   "execution_count": 11,
   "metadata": {
    "collapsed": false
   },
   "outputs": [],
   "source": [
    "def train_forest(X, Y):\n",
    "    ini = datetime.now()\n",
    "    train_x, test_x, train_y, test_y = train_test_split(X, Y, test_size=0.01)\n",
    "    \n",
    "    forest = ExtraTreesClassifier(n_estimators=80,\n",
    "                            random_state=500,\n",
    "                            n_jobs=4,\n",
    "                           max_leaf_nodes=80,\n",
    "                            warm_start=True,\n",
    "                            min_samples_leaf=200,\n",
    "                            max_features=100#X.shape[1]\n",
    "                           )\n",
    "\n",
    "    kf = KFold(train_x.shape[0], n_folds=5, shuffle=True, random_state=500)\n",
    "    print('Training forest...')\n",
    "    for k, (train, test) in enumerate(kf, start=1):\n",
    "        forest.fit(train_x[train], train_y[train])\n",
    "        pred = forest.predict(train_x[test])\n",
    "        print('fold:', k, 'log loss:', log_loss(train_y[test], pred), 'accuracy:', forest.score(train_x[test],train_y[test]))\n",
    "    print('Testing...')\n",
    "    pred = forest.predict(test_x)\n",
    "    print('fold:', k, 'log loss:', log_loss(test_y, pred), 'accuracy:', forest.score(test_x,test_y))\n",
    "    fim = datetime.now()\n",
    "    print(fim - ini)\n",
    "    return forest"
   ]
  },
  {
   "cell_type": "code",
   "execution_count": null,
   "metadata": {
    "collapsed": false,
    "scrolled": false
   },
   "outputs": [],
   "source": [
    "forest = train_forest(X, Y)"
   ]
  },
  {
   "cell_type": "code",
   "execution_count": null,
   "metadata": {
    "collapsed": false,
    "scrolled": false
   },
   "outputs": [],
   "source": []
  },
  {
   "cell_type": "code",
   "execution_count": null,
   "metadata": {
    "collapsed": true
   },
   "outputs": [],
   "source": [
    "# import pickle\n",
    "# with open('temp', 'wb') as f:\n",
    "#     pickle.dump(forest, f)"
   ]
  },
  {
   "cell_type": "code",
   "execution_count": null,
   "metadata": {
    "collapsed": false
   },
   "outputs": [],
   "source": [
    "# import pickle\n",
    "# with open('temp', 'rb') as f:\n",
    "#     forest = pickle.load(f)"
   ]
  },
  {
   "cell_type": "code",
   "execution_count": null,
   "metadata": {
    "collapsed": true
   },
   "outputs": [],
   "source": []
  },
  {
   "cell_type": "code",
   "execution_count": null,
   "metadata": {
    "collapsed": true
   },
   "outputs": [],
   "source": [
    "def get_test():\n",
    "    df_test = pd.read_csv('test.csv.gz', index_col='Id')\n",
    "    df_test.reset_index(inplace=True)\n",
    "    df_test.Dates = pd.to_datetime(df_test.Dates)\n",
    "    df_test = trata_vars(df_test)\n",
    "\n",
    "    X_test = pd.get_dummies(df_test[cols_x])\n",
    "    return X_test"
   ]
  },
  {
   "cell_type": "code",
   "execution_count": null,
   "metadata": {
    "collapsed": true
   },
   "outputs": [],
   "source": [
    "X_test = get_test()"
   ]
  },
  {
   "cell_type": "code",
   "execution_count": null,
   "metadata": {
    "collapsed": false
   },
   "outputs": [],
   "source": []
  },
  {
   "cell_type": "code",
   "execution_count": null,
   "metadata": {
    "collapsed": false
   },
   "outputs": [],
   "source": []
  },
  {
   "cell_type": "code",
   "execution_count": null,
   "metadata": {
    "collapsed": false
   },
   "outputs": [],
   "source": [
    "# a = X_train.columns - X_test.columns\n",
    "# for i in a:\n",
    "#     X_test[i] = 0"
   ]
  },
  {
   "cell_type": "code",
   "execution_count": null,
   "metadata": {
    "collapsed": false
   },
   "outputs": [],
   "source": []
  },
  {
   "cell_type": "code",
   "execution_count": null,
   "metadata": {
    "collapsed": false,
    "scrolled": false
   },
   "outputs": [],
   "source": [
    "# res = forest.predict(np.array(X_test))\n",
    "\n",
    "\n",
    "# X_test.drop(X_test.columns - X_train.columns, axis=1, inplace=True)\n",
    "import gc\n",
    "l = []\n",
    "for i in range(0, X_test.shape[0],100000):\n",
    "    print(i)\n",
    "    res = forest.predict(np.array(X_test.iloc[i:i+100000]))\n",
    "    l.append(res)\n",
    "    del res\n",
    "    gc.collect()"
   ]
  },
  {
   "cell_type": "code",
   "execution_count": null,
   "metadata": {
    "collapsed": false
   },
   "outputs": [],
   "source": [
    "newl = []\n",
    "for i in l:\n",
    "    for j in i:\n",
    "        newl.append(j)\n",
    "res = np.array(newl)"
   ]
  },
  {
   "cell_type": "code",
   "execution_count": null,
   "metadata": {
    "collapsed": false
   },
   "outputs": [],
   "source": []
  },
  {
   "cell_type": "code",
   "execution_count": null,
   "metadata": {
    "collapsed": true
   },
   "outputs": [],
   "source": []
  },
  {
   "cell_type": "code",
   "execution_count": null,
   "metadata": {
    "collapsed": false
   },
   "outputs": [],
   "source": []
  },
  {
   "cell_type": "code",
   "execution_count": null,
   "metadata": {
    "collapsed": false
   },
   "outputs": [],
   "source": []
  },
  {
   "cell_type": "code",
   "execution_count": null,
   "metadata": {
    "collapsed": false
   },
   "outputs": [],
   "source": [
    "cols = df['Category'].unique()\n",
    "cols.sort()\n",
    "\n",
    "res = pd.DataFrame(res)\n",
    "res.columns = cols\n",
    "res['Id'] = res.index\n",
    "res.set_index('Id', inplace=True)"
   ]
  },
  {
   "cell_type": "code",
   "execution_count": null,
   "metadata": {
    "collapsed": false
   },
   "outputs": [],
   "source": [
    "today = datetime.today()\n",
    "t = today.strftime('%Y%m%d%H%M')\n",
    "res.to_csv('result_%s.csv.gz'%t, compression='gzip')"
   ]
  },
  {
   "cell_type": "code",
   "execution_count": null,
   "metadata": {
    "collapsed": true
   },
   "outputs": [],
   "source": []
  }
 ],
 "metadata": {
  "kernelspec": {
   "display_name": "Python 3",
   "language": "python",
   "name": "python3"
  },
  "language_info": {
   "codemirror_mode": {
    "name": "ipython",
    "version": 3
   },
   "file_extension": ".py",
   "mimetype": "text/x-python",
   "name": "python",
   "nbconvert_exporter": "python",
   "pygments_lexer": "ipython3",
   "version": "3.4.3"
  }
 },
 "nbformat": 4,
 "nbformat_minor": 0
}
